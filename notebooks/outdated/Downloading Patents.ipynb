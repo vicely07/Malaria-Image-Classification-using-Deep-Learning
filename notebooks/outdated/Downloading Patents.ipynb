{
 "cells": [
  {
   "cell_type": "markdown",
   "metadata": {},
   "source": [
    "# Introduction: Downlading Patents\n",
    "\n",
    "The purpose of this notebook is to download patents abstracts. Using a saved query that includes the links to the patents, we can download and save the abstracts to use for machine learning and deep learning."
   ]
  },
  {
   "cell_type": "code",
   "execution_count": 1,
   "metadata": {},
   "outputs": [],
   "source": [
    "import pandas as pd\n",
    "from bs4 import BeautifulSoup\n",
    "import requests"
   ]
  },
  {
   "cell_type": "code",
   "execution_count": 2,
   "metadata": {},
   "outputs": [
    {
     "data": {
      "text/plain": [
       "['gp-search-autonomous-systems.csv',\n",
       " 'gp-search-artificial-intelligence.csv',\n",
       " 'gp-search-deep-neural-networks.csv',\n",
       " 'gp-search-thinking-machines.csv',\n",
       " 'gp-search-neural-networks.csv',\n",
       " 'gp-search-machine-learning.csv',\n",
       " 'gp-search-deep-learning.csv',\n",
       " 'gp-search-computer-science.csv',\n",
       " 'gp-search-information-processing.csv',\n",
       " 'gp-search-recurrent-neural-networks.csv']"
      ]
     },
     "execution_count": 2,
     "metadata": {},
     "output_type": "execute_result"
    }
   ],
   "source": [
    "import os\n",
    "os.listdir('../data/patent_search/')"
   ]
  },
  {
   "cell_type": "code",
   "execution_count": 4,
   "metadata": {},
   "outputs": [
    {
     "data": {
      "text/html": [
       "<div>\n",
       "<style scoped>\n",
       "    .dataframe tbody tr th:only-of-type {\n",
       "        vertical-align: middle;\n",
       "    }\n",
       "\n",
       "    .dataframe tbody tr th {\n",
       "        vertical-align: top;\n",
       "    }\n",
       "\n",
       "    .dataframe thead th {\n",
       "        text-align: right;\n",
       "    }\n",
       "</style>\n",
       "<table border=\"1\" class=\"dataframe\">\n",
       "  <thead>\n",
       "    <tr style=\"text-align: right;\">\n",
       "      <th></th>\n",
       "      <th>id</th>\n",
       "      <th>title</th>\n",
       "      <th>assignee</th>\n",
       "      <th>inventor/author</th>\n",
       "      <th>priority date</th>\n",
       "      <th>filing/creation date</th>\n",
       "      <th>publication date</th>\n",
       "      <th>grant date</th>\n",
       "      <th>result link</th>\n",
       "      <th>representative figure link</th>\n",
       "    </tr>\n",
       "  </thead>\n",
       "  <tbody>\n",
       "    <tr>\n",
       "      <th>0</th>\n",
       "      <td>US-6914886-B2</td>\n",
       "      <td>Controlling traffic on links between autonomou...</td>\n",
       "      <td>Radware Ltd.</td>\n",
       "      <td>Amir Peles, Smadar Fuks</td>\n",
       "      <td>2001-05-03</td>\n",
       "      <td>2001-05-03</td>\n",
       "      <td>2005-07-05</td>\n",
       "      <td>2005-07-05</td>\n",
       "      <td>https://patents.google.com/patent/US6914886B2/en</td>\n",
       "      <td>https://patentimages.storage.googleapis.com/51...</td>\n",
       "    </tr>\n",
       "    <tr>\n",
       "      <th>1</th>\n",
       "      <td>US-2008129825-A1</td>\n",
       "      <td>Autonomous Systems And Methods For Still And M...</td>\n",
       "      <td>Lynx System Developers, Inc.</td>\n",
       "      <td>Douglas J. DeAngelis, Kirk Sigel, Edward Evansen</td>\n",
       "      <td>2006-12-04</td>\n",
       "      <td>2007-12-04</td>\n",
       "      <td>2008-06-05</td>\n",
       "      <td>NaN</td>\n",
       "      <td>https://patents.google.com/patent/US2008012982...</td>\n",
       "      <td>https://patentimages.storage.googleapis.com/US...</td>\n",
       "    </tr>\n",
       "    <tr>\n",
       "      <th>2</th>\n",
       "      <td>US-2010066676-A1</td>\n",
       "      <td>Gestural Control of Autonomous and Semi-Autono...</td>\n",
       "      <td>Oblong Industries, Inc.</td>\n",
       "      <td>Kwindla Hultman Kramer, Tom White, Mattie Ruth...</td>\n",
       "      <td>2006-02-08</td>\n",
       "      <td>2009-09-10</td>\n",
       "      <td>2010-03-18</td>\n",
       "      <td>NaN</td>\n",
       "      <td>https://patents.google.com/patent/US2010006667...</td>\n",
       "      <td>NaN</td>\n",
       "    </tr>\n",
       "    <tr>\n",
       "      <th>3</th>\n",
       "      <td>US-5046022-A</td>\n",
       "      <td>Tele-autonomous system and method employing ti...</td>\n",
       "      <td>The Regents Of The University Of Michigan</td>\n",
       "      <td>Lynn A. Conway, Richard A. Volz, Michael W. Wa...</td>\n",
       "      <td>1988-03-10</td>\n",
       "      <td>1988-03-10</td>\n",
       "      <td>1991-09-03</td>\n",
       "      <td>1991-09-03</td>\n",
       "      <td>https://patents.google.com/patent/US5046022A/en</td>\n",
       "      <td>https://patentimages.storage.googleapis.com/pa...</td>\n",
       "    </tr>\n",
       "    <tr>\n",
       "      <th>4</th>\n",
       "      <td>US-7076559-B1</td>\n",
       "      <td>System, device, and method for establishing la...</td>\n",
       "      <td>Nortel Networks Limited</td>\n",
       "      <td>Anoop Ghanwani, Andre Fredette, Naganand Doras...</td>\n",
       "      <td>1999-12-28</td>\n",
       "      <td>1999-12-28</td>\n",
       "      <td>2006-07-11</td>\n",
       "      <td>2006-07-11</td>\n",
       "      <td>https://patents.google.com/patent/US7076559B1/en</td>\n",
       "      <td>https://patentimages.storage.googleapis.com/US...</td>\n",
       "    </tr>\n",
       "  </tbody>\n",
       "</table>\n",
       "</div>"
      ],
      "text/plain": [
       "                 id                                              title  \\\n",
       "0     US-6914886-B2  Controlling traffic on links between autonomou...   \n",
       "1  US-2008129825-A1  Autonomous Systems And Methods For Still And M...   \n",
       "2  US-2010066676-A1  Gestural Control of Autonomous and Semi-Autono...   \n",
       "3      US-5046022-A  Tele-autonomous system and method employing ti...   \n",
       "4     US-7076559-B1  System, device, and method for establishing la...   \n",
       "\n",
       "                                    assignee  \\\n",
       "0                               Radware Ltd.   \n",
       "1               Lynx System Developers, Inc.   \n",
       "2                    Oblong Industries, Inc.   \n",
       "3  The Regents Of The University Of Michigan   \n",
       "4                    Nortel Networks Limited   \n",
       "\n",
       "                                     inventor/author priority date  \\\n",
       "0                            Amir Peles, Smadar Fuks    2001-05-03   \n",
       "1   Douglas J. DeAngelis, Kirk Sigel, Edward Evansen    2006-12-04   \n",
       "2  Kwindla Hultman Kramer, Tom White, Mattie Ruth...    2006-02-08   \n",
       "3  Lynn A. Conway, Richard A. Volz, Michael W. Wa...    1988-03-10   \n",
       "4  Anoop Ghanwani, Andre Fredette, Naganand Doras...    1999-12-28   \n",
       "\n",
       "  filing/creation date publication date  grant date  \\\n",
       "0           2001-05-03       2005-07-05  2005-07-05   \n",
       "1           2007-12-04       2008-06-05         NaN   \n",
       "2           2009-09-10       2010-03-18         NaN   \n",
       "3           1988-03-10       1991-09-03  1991-09-03   \n",
       "4           1999-12-28       2006-07-11  2006-07-11   \n",
       "\n",
       "                                         result link  \\\n",
       "0   https://patents.google.com/patent/US6914886B2/en   \n",
       "1  https://patents.google.com/patent/US2008012982...   \n",
       "2  https://patents.google.com/patent/US2010006667...   \n",
       "3    https://patents.google.com/patent/US5046022A/en   \n",
       "4   https://patents.google.com/patent/US7076559B1/en   \n",
       "\n",
       "                          representative figure link  \n",
       "0  https://patentimages.storage.googleapis.com/51...  \n",
       "1  https://patentimages.storage.googleapis.com/US...  \n",
       "2                                                NaN  \n",
       "3  https://patentimages.storage.googleapis.com/pa...  \n",
       "4  https://patentimages.storage.googleapis.com/US...  "
      ]
     },
     "execution_count": 4,
     "metadata": {},
     "output_type": "execute_result"
    }
   ],
   "source": [
    "search_results = pd.read_csv('../data/patent_search/gp-search-autonomous-systems.csv', \n",
    "                             skiprows = [0])\n",
    "search_results.head()"
   ]
  },
  {
   "cell_type": "code",
   "execution_count": 7,
   "metadata": {},
   "outputs": [
    {
     "data": {
      "text/plain": [
       "'US6914886B2 - Controlling traffic on links between autonomous systems \\n        - Google Patents'"
      ]
     },
     "execution_count": 7,
     "metadata": {},
     "output_type": "execute_result"
    }
   ],
   "source": [
    "url = search_results.loc[0, 'result link']\n",
    "r = requests.get(url)\n",
    "soup = BeautifulSoup(r.content, 'lxml')\n",
    "soup.find('h1').text"
   ]
  },
  {
   "cell_type": "code",
   "execution_count": 8,
   "metadata": {},
   "outputs": [
    {
     "data": {
      "text/plain": [
       "'The present invention provides for controlling incoming traffics on the links to an autonomous system. Incoming traffic usage for blocks of IP addresses within an autonomous system and load, congestion and capacity of the links for the incoming traffic is monitored to determine the optimal link for incoming traffic destined for a block of IP addresses. Incoming traffic for a block of IP addresses is biased towards the optimal link by configuring the border routers to announce the block of IP addresses via Border Gateway Protocol (BGP) across the non-optimal links with one or more local AS numbers pre-pended, causing the non-optimal links to look as if they are of a greater routing distance than the optimal link. In addition, outgoing traffic for a session is separately controlled by tagging the packets of the session for a specific link, causing the router to send the packet out the optimal link.'"
      ]
     },
     "execution_count": 8,
     "metadata": {},
     "output_type": "execute_result"
    }
   ],
   "source": [
    "abstract = soup.find(\"div\",  {\"class\": 'abstract'})\n",
    "abstract.text.strip()"
   ]
  },
  {
   "cell_type": "code",
   "execution_count": 9,
   "metadata": {},
   "outputs": [],
   "source": [
    "soup.find('aside')"
   ]
  },
  {
   "cell_type": "code",
   "execution_count": 18,
   "metadata": {},
   "outputs": [],
   "source": [
    "def parse_abstract(url_title):\n",
    "    r = requests.get(url_title[0])\n",
    "    title = url_title[1]\n",
    "    # Create soup\n",
    "    soup = BeautifulSoup(r.content, 'lxml')\n",
    "    \n",
    "    # Filter translations\n",
    "    if soup.find('aside') is not None:\n",
    "        return (None, title)\n",
    "    try:\n",
    "        abstract = soup.find('div', {'class': 'abstract'}).text.strip()\n",
    "        return (abstract, title)\n",
    "    except Exception as e:\n",
    "        return (None, title)"
   ]
  },
  {
   "cell_type": "code",
   "execution_count": 11,
   "metadata": {},
   "outputs": [
    {
     "data": {
      "text/html": [
       "<img src=\"https://patentimages.storage.googleapis.com/51/86/ed/b6b3b54bb57ab9/US06914886-20050705-D00000.png\"/>"
      ],
      "text/plain": [
       "<IPython.core.display.Image object>"
      ]
     },
     "execution_count": 11,
     "metadata": {},
     "output_type": "execute_result"
    }
   ],
   "source": [
    "from IPython import display\n",
    "\n",
    "image_url = search_results.loc[0, 'representative figure link']\n",
    "display.Image(url = image_url)"
   ]
  },
  {
   "cell_type": "code",
   "execution_count": 22,
   "metadata": {},
   "outputs": [
    {
     "data": {
      "text/plain": [
       "677"
      ]
     },
     "execution_count": 22,
     "metadata": {},
     "output_type": "execute_result"
    }
   ],
   "source": [
    "urls = list(search_results.loc[:, 'result link'])\n",
    "titles = list(search_results.loc[:, 'title'])\n",
    "\n",
    "url_with_titles = [(url, title) for url, title in zip(urls, titles)]\n",
    "len(url_with_titles)"
   ]
  },
  {
   "cell_type": "code",
   "execution_count": 23,
   "metadata": {},
   "outputs": [
    {
     "data": {
      "text/plain": [
       "('https://patents.google.com/patent/US6914886B2/en',\n",
       " 'Controlling traffic on links between autonomous systems ')"
      ]
     },
     "execution_count": 23,
     "metadata": {},
     "output_type": "execute_result"
    }
   ],
   "source": [
    "url_with_titles[0]"
   ]
  },
  {
   "cell_type": "code",
   "execution_count": 24,
   "metadata": {},
   "outputs": [
    {
     "name": "stdout",
     "output_type": "stream",
     "text": [
      "99.85228951255539% complete...\r"
     ]
    }
   ],
   "source": [
    "from tqdm import tqdm_notebook\n",
    "from timeit import default_timer as timer\n",
    "from multiprocessing.dummy import Pool\n",
    "\n",
    "results = []\n",
    "start = timer()\n",
    "pool = Pool(20)\n",
    "for i, r in enumerate(pool.imap_unordered(parse_abstract, url_with_titles)):\n",
    "    results.append(r)\n",
    "    print(f'{round(100 * (i / len(url_with_titles), 2))}% complete.', end = '\\r')\n",
    "pool.close()\n",
    "pool.join()\n",
    "end = timer()"
   ]
  },
  {
   "cell_type": "code",
   "execution_count": null,
   "metadata": {},
   "outputs": [],
   "source": [
    "results = [r for r in results if r[1] is not None]\n",
    "print(f'Found {len(results)} patent abstracts in {round(end - start)} seconds.')"
   ]
  },
  {
   "cell_type": "code",
   "execution_count": 26,
   "metadata": {},
   "outputs": [
    {
     "data": {
      "text/plain": [
       "'autonomous-systems'"
      ]
     },
     "execution_count": 26,
     "metadata": {},
     "output_type": "execute_result"
    }
   ],
   "source": [
    "file = os.listdir('../data/patent_search/')[0]\n",
    "search_term = file.split('gp-search-')[-1].split('.csv')[0]\n",
    "search_term"
   ]
  },
  {
   "cell_type": "code",
   "execution_count": 32,
   "metadata": {},
   "outputs": [],
   "source": [
    "import json\n",
    "\n",
    "with open(f'../data/patents_parsed/{search_term}_abstracts.ndjson', 'w') as fout:\n",
    "        # Iterate through each list element\n",
    "        for l in results:\n",
    "            # Write to file\n",
    "            fout.write(json.dumps(l) + '\\n')"
   ]
  },
  {
   "cell_type": "code",
   "execution_count": null,
   "metadata": {},
   "outputs": [
    {
     "name": "stdout",
     "output_type": "stream",
     "text": [
      "Processing autonomous-systems.\n",
      "Found 677 patent abstracts in 1078 seconds.\n",
      "1 files processed.\n",
      "Processing artificial-intelligence.\n",
      "Found 750 patent abstracts in 200 seconds.\n",
      "2 files processed.\n",
      "Processing deep-neural-networks.\n",
      "Found 700 patent abstracts in 193 seconds.\n",
      "3 files processed.\n",
      "Processing thinking-machines.\n",
      "Found 659 patent abstracts in 395 seconds.\n",
      "4 files processed.\n",
      "Processing neural-networks.\n",
      "34.9% complete..\r"
     ]
    }
   ],
   "source": [
    "# Iterate through all files\n",
    "for j, file in enumerate(os.listdir('../data/patent_search/')):\n",
    "    \n",
    "    # Read in file\n",
    "    search_results = pd.read_csv(f'../data/patent_search/{file}', skiprows = [0])\n",
    "    \n",
    "    # Determine search term name\n",
    "    search_term = file.split('gp-search-')[-1].split('.csv')[0]\n",
    "    print(f'Processing {search_term}.')\n",
    "    \n",
    "    # Create list of tuples of urls and titles\n",
    "    urls = list(search_results.loc[:, 'result link'])\n",
    "    titles = list(search_results.loc[:, 'title'])\n",
    "    url_with_titles = [(url, title) for url, title in zip(urls, titles)]\n",
    "    \n",
    "    # New list for results\n",
    "    results = []\n",
    "    start = timer()\n",
    "    \n",
    "    # Pool with threads\n",
    "    pool = Pool(20)\n",
    "    \n",
    "    # Iterate through the urls and titles\n",
    "    for i, r in enumerate(pool.imap_unordered(parse_abstract, url_with_titles)):\n",
    "        results.append(r)\n",
    "        # Progress\n",
    "        print(f'{round(100 * (i / len(url_with_titles)), 2)}% complete.', end = '\\r')\n",
    "    pool.close()\n",
    "    pool.join()\n",
    "    end = timer()\n",
    "    \n",
    "    # Results\n",
    "    results = [r for r in results if r[1] is not None]\n",
    "    \n",
    "    # Save results\n",
    "    with open(f'../data/patents_parsed/{search_term}_abstracts.ndjson', 'w') as fout:\n",
    "        # Iterate through each list element\n",
    "        for l in results:\n",
    "            # Write to file\n",
    "            fout.write(json.dumps(l) + '\\n')\n",
    "            \n",
    "    # Progress updates\n",
    "    print(f'Found {len(results)} patent abstracts in {round(end - start)} seconds.')\n",
    "    print(f'{j + 1} files processed.')"
   ]
  },
  {
   "cell_type": "code",
   "execution_count": null,
   "metadata": {},
   "outputs": [],
   "source": [
    "image_url = search_results.loc[6, 'representative figure link']\n",
    "display.Image(url = image_url)"
   ]
  },
  {
   "cell_type": "code",
   "execution_count": null,
   "metadata": {},
   "outputs": [],
   "source": []
  }
 ],
 "metadata": {
  "kernelspec": {
   "display_name": "Python [default]",
   "language": "python",
   "name": "python3"
  },
  "language_info": {
   "codemirror_mode": {
    "name": "ipython",
    "version": 3
   },
   "file_extension": ".py",
   "mimetype": "text/x-python",
   "name": "python",
   "nbconvert_exporter": "python",
   "pygments_lexer": "ipython3",
   "version": "3.6.4"
  }
 },
 "nbformat": 4,
 "nbformat_minor": 2
}
